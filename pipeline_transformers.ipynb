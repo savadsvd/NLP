{
 "cells": [
  {
   "cell_type": "markdown",
   "id": "d765ccb7",
   "metadata": {},
   "source": [
    "The Hugging face transformers package is a popular python library providing pre trained models that are extraordinary useful for a varify NLP talks"
   ]
  },
  {
   "cell_type": "code",
   "execution_count": 5,
   "id": "54f3eb95",
   "metadata": {},
   "outputs": [],
   "source": [
    "!pip install -q transformers"
   ]
  },
  {
   "cell_type": "code",
   "execution_count": null,
   "id": "5b1a77d5",
   "metadata": {},
   "outputs": [],
   "source": [
    "from transformers import pipeline"
   ]
  },
  {
   "cell_type": "markdown",
   "id": "f9098078",
   "metadata": {},
   "source": [
    "### sentiment analysis"
   ]
  },
  {
   "cell_type": "code",
   "execution_count": null,
   "id": "dacad9b4",
   "metadata": {},
   "outputs": [],
   "source": [
    "nlp_sentiment_classify=pipeline('sentiment-analysis')"
   ]
  },
  {
   "cell_type": "code",
   "execution_count": null,
   "id": "c0b31306",
   "metadata": {},
   "outputs": [],
   "source": [
    "nlp_sentiment_classify(\"hope to see a better movie next time\")"
   ]
  },
  {
   "cell_type": "code",
   "execution_count": null,
   "id": "a15a3bb3",
   "metadata": {},
   "outputs": [],
   "source": [
    "nlp_sentiment_classify(\"its good\")"
   ]
  },
  {
   "cell_type": "code",
   "execution_count": null,
   "id": "d2160181",
   "metadata": {},
   "outputs": [],
   "source": [
    "nlp_sentiment_classify(\"i loved this movie\")"
   ]
  },
  {
   "cell_type": "code",
   "execution_count": null,
   "id": "b8ce57c2",
   "metadata": {},
   "outputs": [],
   "source": [
    "nlp_sentiment_classify(\"its too heavy to carry\")"
   ]
  },
  {
   "cell_type": "code",
   "execution_count": null,
   "id": "ffadfa65",
   "metadata": {},
   "outputs": [],
   "source": [
    "text1='hope to see a better movie next time'\n",
    "text2='i loved this movie'\n",
    "nlp_sentiment_classify([text1,text2])"
   ]
  },
  {
   "cell_type": "code",
   "execution_count": null,
   "id": "e8c6b82d",
   "metadata": {},
   "outputs": [],
   "source": [
    "nlp_qa=pipeline('question-answering')"
   ]
  },
  {
   "cell_type": "code",
   "execution_count": null,
   "id": "384c5764",
   "metadata": {},
   "outputs": [],
   "source": [
    "nlp_qa(context='my name is savad',question='what is my name?')"
   ]
  },
  {
   "cell_type": "code",
   "execution_count": null,
   "id": "e0bda569",
   "metadata": {},
   "outputs": [],
   "source": []
  }
 ],
 "metadata": {
  "kernelspec": {
   "display_name": "Python 3 (ipykernel)",
   "language": "python",
   "name": "python3"
  },
  "language_info": {
   "codemirror_mode": {
    "name": "ipython",
    "version": 3
   },
   "file_extension": ".py",
   "mimetype": "text/x-python",
   "name": "python",
   "nbconvert_exporter": "python",
   "pygments_lexer": "ipython3",
   "version": "3.9.7"
  }
 },
 "nbformat": 4,
 "nbformat_minor": 5
}
