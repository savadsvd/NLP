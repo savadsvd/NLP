{
 "cells": [
  {
   "cell_type": "code",
   "execution_count": 18,
   "id": "4c170199",
   "metadata": {},
   "outputs": [
    {
     "name": "stdout",
     "output_type": "stream",
     "text": [
      "Requirement already satisfied: chatterbot==1.0.4 in c:\\users\\lenovo\\anaconda3\\lib\\site-packages (1.0.4)Note: you may need to restart the kernel to use updated packages.\n",
      "Requirement already satisfied: chatterbot-corpus<1.3,>=1.2 in c:\\users\\lenovo\\anaconda3\\lib\\site-packages (from chatterbot==1.0.4) (1.2.0)\n",
      "Requirement already satisfied: python-dateutil<2.8,>=2.7 in c:\\users\\lenovo\\anaconda3\\lib\\site-packages (from chatterbot==1.0.4) (2.7.5)\n",
      "Requirement already satisfied: nltk<4.0,>=3.2 in c:\\users\\lenovo\\anaconda3\\lib\\site-packages (from chatterbot==1.0.4) (3.6.5)\n",
      "Requirement already satisfied: pint>=0.8.1 in c:\\users\\lenovo\\anaconda3\\lib\\site-packages (from chatterbot==1.0.4) (0.19.2)\n",
      "Requirement already satisfied: pymongo<4.0,>=3.3 in c:\\users\\lenovo\\anaconda3\\lib\\site-packages (from chatterbot==1.0.4) (3.12.3)\n",
      "Requirement already satisfied: sqlalchemy<1.3,>=1.2 in c:\\users\\lenovo\\anaconda3\\lib\\site-packages (from chatterbot==1.0.4) (1.2.19)\n",
      "Requirement already satisfied: mathparse<0.2,>=0.1 in c:\\users\\lenovo\\anaconda3\\lib\\site-packages (from chatterbot==1.0.4) (0.1.2)\n",
      "Requirement already satisfied: PyYAML<4.0,>=3.12 in c:\\users\\lenovo\\anaconda3\\lib\\site-packages (from chatterbot-corpus<1.3,>=1.2->chatterbot==1.0.4) (3.13)\n",
      "Requirement already satisfied: click in c:\\users\\lenovo\\anaconda3\\lib\\site-packages (from nltk<4.0,>=3.2->chatterbot==1.0.4) (8.0.3)\n",
      "Requirement already satisfied: joblib in c:\\users\\lenovo\\anaconda3\\lib\\site-packages (from nltk<4.0,>=3.2->chatterbot==1.0.4) (1.1.0)\n",
      "Requirement already satisfied: regex>=2021.8.3 in c:\\users\\lenovo\\anaconda3\\lib\\site-packages (from nltk<4.0,>=3.2->chatterbot==1.0.4) (2021.8.3)\n",
      "Requirement already satisfied: tqdm in c:\\users\\lenovo\\anaconda3\\lib\\site-packages (from nltk<4.0,>=3.2->chatterbot==1.0.4) (4.62.3)\n",
      "Requirement already satisfied: six>=1.5 in c:\\users\\lenovo\\anaconda3\\lib\\site-packages (from python-dateutil<2.8,>=2.7->chatterbot==1.0.4) (1.16.0)\n",
      "Requirement already satisfied: colorama in c:\\users\\lenovo\\anaconda3\\lib\\site-packages (from click->nltk<4.0,>=3.2->chatterbot==1.0.4) (0.4.4)\n",
      "\n"
     ]
    }
   ],
   "source": [
    "#pip install chatterbot==1.0.4"
   ]
  },
  {
   "cell_type": "code",
   "execution_count": 3,
   "id": "5909b191",
   "metadata": {
    "scrolled": true
   },
   "outputs": [],
   "source": [
    "from chatterbot import ChatBot\n",
    "from chatterbot.trainers import ListTrainer"
   ]
  },
  {
   "cell_type": "code",
   "execution_count": 4,
   "id": "029148b0",
   "metadata": {},
   "outputs": [],
   "source": [
    "import time\n",
    "time.clock=time.time"
   ]
  },
  {
   "cell_type": "code",
   "execution_count": 5,
   "id": "46f42d63",
   "metadata": {},
   "outputs": [
    {
     "name": "stderr",
     "output_type": "stream",
     "text": [
      "[nltk_data] Downloading package averaged_perceptron_tagger to\n",
      "[nltk_data]     C:\\Users\\Lenovo\\AppData\\Roaming\\nltk_data...\n",
      "[nltk_data]   Package averaged_perceptron_tagger is already up-to-\n",
      "[nltk_data]       date!\n",
      "[nltk_data] Downloading package punkt to\n",
      "[nltk_data]     C:\\Users\\Lenovo\\AppData\\Roaming\\nltk_data...\n",
      "[nltk_data]   Package punkt is already up-to-date!\n",
      "[nltk_data] Downloading package stopwords to\n",
      "[nltk_data]     C:\\Users\\Lenovo\\AppData\\Roaming\\nltk_data...\n",
      "[nltk_data]   Package stopwords is already up-to-date!\n"
     ]
    }
   ],
   "source": [
    "my_bot=ChatBot(name='Mybot',read_only=False,logic_adapters=['chatterbot.logic.MathematicalEvaluation','chatterbot.logic.BestMatch'])"
   ]
  },
  {
   "cell_type": "code",
   "execution_count": 6,
   "id": "bd39ba4d",
   "metadata": {},
   "outputs": [],
   "source": [
    "small_talk=['hi there!',\n",
    "            'hi',\n",
    "            'how do you do?',\n",
    "            'i\\'m cool',\n",
    "            'fine,you',\n",
    "            'always cool',\n",
    "            'i\\'m fine',\n",
    "            'i\\'m happy',\n",
    "            'glad to hear that',\n",
    "            'i feel awesome',\n",
    "            'excellent,glad to hear that',\n",
    "            'not so good',\n",
    "            'you are bad at this',\n",
    "            'i am offended',\n",
    "            'sorry to hear that',\n",
    "            'what\\'s your name?',\n",
    "            'i\\'m Mybot.ask me a math question,please.'\n",
    "           ]\n",
    "\n",
    "math_talk_1=['pythagorean theorm',\n",
    "           'a squared plus b squared equals c squared.']\n",
    "\n",
    "math_talk_2=['law of cosines',\n",
    "           'c**2=a**2 + b**2 - 2* a * b * cos(gamma)']"
   ]
  },
  {
   "cell_type": "code",
   "execution_count": 34,
   "id": "3469f417",
   "metadata": {},
   "outputs": [
    {
     "name": "stdout",
     "output_type": "stream",
     "text": [
      "List Trainer: [####################] 100%\n",
      "List Trainer: [####################] 100%\n",
      "List Trainer: [####################] 100%\n"
     ]
    }
   ],
   "source": [
    "list_trainer=ListTrainer(my_bot)\n",
    "for item in(small_talk,math_talk_1,math_talk_2):\n",
    "    list_trainer.train(item)"
   ]
  },
  {
   "cell_type": "code",
   "execution_count": 35,
   "id": "beadf09a",
   "metadata": {},
   "outputs": [
    {
     "name": "stdout",
     "output_type": "stream",
     "text": [
      "not so good\n"
     ]
    }
   ],
   "source": [
    "print(my_bot.get_response(\"are you feeling now?\"))"
   ]
  },
  {
   "cell_type": "code",
   "execution_count": 36,
   "id": "e90799bf",
   "metadata": {},
   "outputs": [
    {
     "name": "stdout",
     "output_type": "stream",
     "text": [
      "c**2=a**2 + b**2 - 2* a * b * cos(gamma)\n"
     ]
    }
   ],
   "source": [
    "print(my_bot.get_response(\"do you know law of cosines?\"))"
   ]
  },
  {
   "cell_type": "code",
   "execution_count": 37,
   "id": "206448b6",
   "metadata": {},
   "outputs": [
    {
     "name": "stdout",
     "output_type": "stream",
     "text": [
      "ten plus six = 16\n"
     ]
    }
   ],
   "source": [
    "print(my_bot.get_response('do you know ten plus six'))"
   ]
  },
  {
   "cell_type": "code",
   "execution_count": 38,
   "id": "3219af3f",
   "metadata": {},
   "outputs": [
    {
     "name": "stdout",
     "output_type": "stream",
     "text": [
      "what's your name?\n"
     ]
    }
   ],
   "source": [
    "print(my_bot.get_response('what is 2+18'))"
   ]
  },
  {
   "cell_type": "code",
   "execution_count": 39,
   "id": "012a257e",
   "metadata": {},
   "outputs": [
    {
     "name": "stdout",
     "output_type": "stream",
     "text": [
      "i'm happy\n"
     ]
    }
   ],
   "source": [
    "print(my_bot.get_response('ask me a question'))"
   ]
  },
  {
   "cell_type": "code",
   "execution_count": 41,
   "id": "a90e1791",
   "metadata": {},
   "outputs": [
    {
     "name": "stdout",
     "output_type": "stream",
     "text": [
      "Training ai.yml: [####################] 100%\n",
      "Training botprofile.yml: [####################] 100%\n",
      "Training computers.yml: [####################] 100%\n",
      "Training conversations.yml: [####################] 100%\n",
      "Training emotion.yml: [####################] 100%\n",
      "Training food.yml: [####################] 100%\n",
      "Training gossip.yml: [####################] 100%\n",
      "Training greetings.yml: [####################] 100%\n",
      "Training health.yml: [####################] 100%\n",
      "Training history.yml: [####################] 100%\n",
      "Training humor.yml: [####################] 100%\n",
      "Training literature.yml: [####################] 100%\n",
      "Training money.yml: [####################] 100%\n",
      "Training movies.yml: [####################] 100%\n",
      "Training politics.yml: [####################] 100%\n",
      "Training psychology.yml: [####################] 100%\n",
      "Training science.yml: [####################] 100%\n",
      "Training sports.yml: [####################] 100%\n",
      "Training trivia.yml: [####################] 100%\n"
     ]
    }
   ],
   "source": [
    "from chatterbot.trainers import ChatterBotCorpusTrainer\n",
    "corpus_trainer=ChatterBotCorpusTrainer(my_bot)\n",
    "corpus_trainer.train('chatterbot.corpus.english')"
   ]
  },
  {
   "cell_type": "code",
   "execution_count": 42,
   "id": "ddf04567",
   "metadata": {},
   "outputs": [
    {
     "name": "stdout",
     "output_type": "stream",
     "text": [
      "Hi\n"
     ]
    }
   ],
   "source": [
    "print(my_bot.get_response('hello'))"
   ]
  },
  {
   "cell_type": "code",
   "execution_count": 43,
   "id": "a82882a1",
   "metadata": {},
   "outputs": [
    {
     "name": "stdout",
     "output_type": "stream",
     "text": [
      "sometimes when i'm on a good power supply i feel tipsy\n"
     ]
    }
   ],
   "source": [
    "print(my_bot.get_response(\"can a robot get drunk?\"))"
   ]
  },
  {
   "cell_type": "code",
   "execution_count": 44,
   "id": "5a17b62b",
   "metadata": {},
   "outputs": [
    {
     "name": "stdout",
     "output_type": "stream",
     "text": [
      "Did you hear the one about the mountain goats in the andes? It was \"ba a a a a a d\".\n"
     ]
    }
   ],
   "source": [
    "print(my_bot.get_response('tell me a joke'))"
   ]
  },
  {
   "cell_type": "code",
   "execution_count": 45,
   "id": "a2d8330e",
   "metadata": {},
   "outputs": [
    {
     "name": "stdout",
     "output_type": "stream",
     "text": [
      "You sound like Data\n"
     ]
    }
   ],
   "source": [
    "print(my_bot.get_response(\"how old are you\"))"
   ]
  },
  {
   "cell_type": "code",
   "execution_count": 47,
   "id": "2e868c2c",
   "metadata": {},
   "outputs": [
    {
     "name": "stdout",
     "output_type": "stream",
     "text": [
      "what is cytology\n"
     ]
    }
   ],
   "source": [
    "print(my_bot.get_response('tell me a action movie'))"
   ]
  },
  {
   "cell_type": "code",
   "execution_count": 49,
   "id": "6b57a483",
   "metadata": {},
   "outputs": [
    {
     "name": "stdout",
     "output_type": "stream",
     "text": [
      "he is a fictional robot.\n"
     ]
    }
   ],
   "source": [
    "print(my_bot.get_response('best sports game'))"
   ]
  },
  {
   "cell_type": "markdown",
   "id": "c7abf6b3",
   "metadata": {},
   "source": [
    "## NER"
   ]
  },
  {
   "cell_type": "code",
   "execution_count": 2,
   "id": "884fa296",
   "metadata": {},
   "outputs": [
    {
     "ename": "NameError",
     "evalue": "name 'pipeline' is not defined",
     "output_type": "error",
     "traceback": [
      "\u001b[1;31m---------------------------------------------------------------------------\u001b[0m",
      "\u001b[1;31mNameError\u001b[0m                                 Traceback (most recent call last)",
      "\u001b[1;32m~\\AppData\\Local\\Temp/ipykernel_11696/1019240741.py\u001b[0m in \u001b[0;36m<module>\u001b[1;34m\u001b[0m\n\u001b[1;32m----> 1\u001b[1;33m \u001b[0mnlp_token_class\u001b[0m\u001b[1;33m=\u001b[0m\u001b[0mpipeline\u001b[0m\u001b[1;33m(\u001b[0m\u001b[1;34m'ner'\u001b[0m\u001b[1;33m)\u001b[0m\u001b[1;33m\u001b[0m\u001b[1;33m\u001b[0m\u001b[0m\n\u001b[0m",
      "\u001b[1;31mNameError\u001b[0m: name 'pipeline' is not defined"
     ]
    }
   ],
   "source": [
    "nlp_token_class=pipeline('ner')"
   ]
  },
  {
   "cell_type": "code",
   "execution_count": null,
   "id": "8bb6e1f2",
   "metadata": {},
   "outputs": [],
   "source": [
    "nlp_token_class('i')"
   ]
  }
 ],
 "metadata": {
  "kernelspec": {
   "display_name": "Python 3 (ipykernel)",
   "language": "python",
   "name": "python3"
  },
  "language_info": {
   "codemirror_mode": {
    "name": "ipython",
    "version": 3
   },
   "file_extension": ".py",
   "mimetype": "text/x-python",
   "name": "python",
   "nbconvert_exporter": "python",
   "pygments_lexer": "ipython3",
   "version": "3.9.7"
  }
 },
 "nbformat": 4,
 "nbformat_minor": 5
}
