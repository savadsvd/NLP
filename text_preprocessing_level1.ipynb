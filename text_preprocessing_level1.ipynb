{
 "cells": [
  {
   "cell_type": "code",
   "execution_count": 1,
   "id": "3fa364cc",
   "metadata": {},
   "outputs": [],
   "source": [
    "#pip install nltk"
   ]
  },
  {
   "cell_type": "code",
   "execution_count": 2,
   "id": "9fc7848f",
   "metadata": {},
   "outputs": [],
   "source": [
    "import nltk"
   ]
  },
  {
   "cell_type": "markdown",
   "id": "571d5b08",
   "metadata": {},
   "source": [
    "### tokenization"
   ]
  },
  {
   "cell_type": "code",
   "execution_count": 3,
   "id": "58ecbf17",
   "metadata": {},
   "outputs": [
    {
     "name": "stderr",
     "output_type": "stream",
     "text": [
      "[nltk_data] Downloading package punkt to\n",
      "[nltk_data]     C:\\Users\\Lenovo\\AppData\\Roaming\\nltk_data...\n",
      "[nltk_data]   Package punkt is already up-to-date!\n"
     ]
    },
    {
     "data": {
      "text/plain": [
       "True"
      ]
     },
     "execution_count": 3,
     "metadata": {},
     "output_type": "execute_result"
    }
   ],
   "source": [
    "nltk.download('punkt')"
   ]
  },
  {
   "cell_type": "code",
   "execution_count": 4,
   "id": "fa3ed8c6",
   "metadata": {},
   "outputs": [
    {
     "data": {
      "text/plain": [
       "['Glad', 'to', 'meet', 'you', '!', '!']"
      ]
     },
     "execution_count": 4,
     "metadata": {},
     "output_type": "execute_result"
    }
   ],
   "source": [
    "from nltk.tokenize import word_tokenize\n",
    "word='Glad to meet you!!'\n",
    "word_tokenize(word)"
   ]
  },
  {
   "cell_type": "code",
   "execution_count": 5,
   "id": "38d1aa80",
   "metadata": {},
   "outputs": [
    {
     "data": {
      "text/plain": [
       "['Hi!',\n",
       " 'we are dealing with natural language processing.',\n",
       " \"let's see the basic text processing methods.\"]"
      ]
     },
     "execution_count": 5,
     "metadata": {},
     "output_type": "execute_result"
    }
   ],
   "source": [
    "from nltk.tokenize import sent_tokenize\n",
    "sent=\"Hi! we are dealing with natural language processing. let's see the basic text processing methods.\"\n",
    "sent_tokenize(sent)"
   ]
  },
  {
   "cell_type": "markdown",
   "id": "20908e95",
   "metadata": {},
   "source": [
    "### stemming"
   ]
  },
  {
   "cell_type": "code",
   "execution_count": 6,
   "id": "c68daf6e",
   "metadata": {
    "scrolled": true
   },
   "outputs": [
    {
     "name": "stdout",
     "output_type": "stream",
     "text": [
      "original word: storing\n",
      "stemmed: store\n",
      "original word: and\n",
      "stemmed: and\n",
      "original word: processing\n",
      "stemmed: process\n",
      "original word: data\n",
      "stemmed: data\n",
      "original word: was\n",
      "stemmed: wa\n",
      "original word: done\n",
      "stemmed: done\n",
      "original word: by\n",
      "stemmed: by\n",
      "original word: traditional\n",
      "stemmed: tradit\n",
      "original word: methods\n",
      "stemmed: method\n"
     ]
    }
   ],
   "source": [
    "from nltk.stem import PorterStemmer\n",
    "\n",
    "ps=PorterStemmer()\n",
    "text='storing and processing data was done by traditional methods'\n",
    "\n",
    "words=word_tokenize(text)\n",
    "for w in words:\n",
    "    print('original word:',w)\n",
    "    print('stemmed:',ps.stem(w))"
   ]
  },
  {
   "cell_type": "markdown",
   "id": "2e5053a3",
   "metadata": {},
   "source": [
    "### lemmatization"
   ]
  },
  {
   "cell_type": "code",
   "execution_count": 7,
   "id": "e475a250",
   "metadata": {},
   "outputs": [
    {
     "name": "stderr",
     "output_type": "stream",
     "text": [
      "[nltk_data] Downloading package wordnet to\n",
      "[nltk_data]     C:\\Users\\Lenovo\\AppData\\Roaming\\nltk_data...\n",
      "[nltk_data]   Package wordnet is already up-to-date!\n"
     ]
    },
    {
     "data": {
      "text/plain": [
       "True"
      ]
     },
     "execution_count": 7,
     "metadata": {},
     "output_type": "execute_result"
    }
   ],
   "source": [
    " nltk.download('wordnet')"
   ]
  },
  {
   "cell_type": "code",
   "execution_count": 8,
   "id": "d3d141ef",
   "metadata": {},
   "outputs": [
    {
     "name": "stdout",
     "output_type": "stream",
     "text": [
      "original word: storing\n",
      "stemmed: storing\n",
      "original word: and\n",
      "stemmed: and\n",
      "original word: processing\n",
      "stemmed: processing\n",
      "original word: data\n",
      "stemmed: data\n",
      "original word: was\n",
      "stemmed: wa\n",
      "original word: done\n",
      "stemmed: done\n",
      "original word: by\n",
      "stemmed: by\n",
      "original word: traditional\n",
      "stemmed: traditional\n",
      "original word: methods\n",
      "stemmed: method\n"
     ]
    }
   ],
   "source": [
    "from nltk.stem import WordNetLemmatizer\n",
    "\n",
    "wn1=WordNetLemmatizer()\n",
    "text='storing and processing data was done by traditional methods'\n",
    "\n",
    "words=word_tokenize(text)\n",
    "for w in words:\n",
    "    print('original word:',w)\n",
    "    print('stemmed:',wn1.lemmatize(w))"
   ]
  },
  {
   "cell_type": "code",
   "execution_count": 9,
   "id": "c038ffcc",
   "metadata": {},
   "outputs": [
    {
     "name": "stdout",
     "output_type": "stream",
     "text": [
      "belief\n",
      "believ\n",
      "capture\n",
      "captur\n"
     ]
    }
   ],
   "source": [
    "#comparison between stemmin and lemmatization\n",
    "wn1=WordNetLemmatizer()\n",
    "text1=\"believes\"\n",
    "text2=\"captures\"\n",
    "\n",
    "print(wn1.lemmatize(text1))\n",
    "print(ps.stem(text1))\n",
    "print(wn1.lemmatize(text2))\n",
    "print(ps.stem(text2))"
   ]
  },
  {
   "cell_type": "markdown",
   "id": "32de29f0",
   "metadata": {},
   "source": [
    "### stop word removal"
   ]
  },
  {
   "cell_type": "code",
   "execution_count": 10,
   "id": "51d7a182",
   "metadata": {},
   "outputs": [
    {
     "name": "stderr",
     "output_type": "stream",
     "text": [
      "[nltk_data] Downloading package stopwords to\n",
      "[nltk_data]     C:\\Users\\Lenovo\\AppData\\Roaming\\nltk_data...\n",
      "[nltk_data]   Package stopwords is already up-to-date!\n"
     ]
    },
    {
     "data": {
      "text/plain": [
       "True"
      ]
     },
     "execution_count": 10,
     "metadata": {},
     "output_type": "execute_result"
    }
   ],
   "source": [
    "nltk.download('stopwords')"
   ]
  },
  {
   "cell_type": "code",
   "execution_count": 11,
   "id": "8aac1033",
   "metadata": {},
   "outputs": [
    {
     "data": {
      "text/plain": [
       "['apple', 'day', 'keeps', 'diseases', 'bay', '.']"
      ]
     },
     "execution_count": 11,
     "metadata": {},
     "output_type": "execute_result"
    }
   ],
   "source": [
    "from nltk.corpus import stopwords\n",
    "sent=\"an apple a day keeps diseases at bay.\"\n",
    "\n",
    "stop_words=set(stopwords.words('english'))\n",
    "word_tokens=word_tokenize(sent)\n",
    "\n",
    "filtered_sentence=[w for w in word_tokens if w not in stop_words]\n",
    "filtered_sentence"
   ]
  },
  {
   "cell_type": "code",
   "execution_count": 12,
   "id": "d81abcef",
   "metadata": {},
   "outputs": [
    {
     "data": {
      "text/plain": [
       "{'a',\n",
       " 'about',\n",
       " 'above',\n",
       " 'after',\n",
       " 'again',\n",
       " 'against',\n",
       " 'ain',\n",
       " 'all',\n",
       " 'am',\n",
       " 'an',\n",
       " 'and',\n",
       " 'any',\n",
       " 'are',\n",
       " 'aren',\n",
       " \"aren't\",\n",
       " 'as',\n",
       " 'at',\n",
       " 'be',\n",
       " 'because',\n",
       " 'been',\n",
       " 'before',\n",
       " 'being',\n",
       " 'below',\n",
       " 'between',\n",
       " 'both',\n",
       " 'but',\n",
       " 'by',\n",
       " 'can',\n",
       " 'couldn',\n",
       " \"couldn't\",\n",
       " 'd',\n",
       " 'did',\n",
       " 'didn',\n",
       " \"didn't\",\n",
       " 'do',\n",
       " 'does',\n",
       " 'doesn',\n",
       " \"doesn't\",\n",
       " 'doing',\n",
       " 'don',\n",
       " \"don't\",\n",
       " 'down',\n",
       " 'during',\n",
       " 'each',\n",
       " 'few',\n",
       " 'for',\n",
       " 'from',\n",
       " 'further',\n",
       " 'had',\n",
       " 'hadn',\n",
       " \"hadn't\",\n",
       " 'has',\n",
       " 'hasn',\n",
       " \"hasn't\",\n",
       " 'have',\n",
       " 'haven',\n",
       " \"haven't\",\n",
       " 'having',\n",
       " 'he',\n",
       " 'her',\n",
       " 'here',\n",
       " 'hers',\n",
       " 'herself',\n",
       " 'him',\n",
       " 'himself',\n",
       " 'his',\n",
       " 'how',\n",
       " 'i',\n",
       " 'if',\n",
       " 'in',\n",
       " 'into',\n",
       " 'is',\n",
       " 'isn',\n",
       " \"isn't\",\n",
       " 'it',\n",
       " \"it's\",\n",
       " 'its',\n",
       " 'itself',\n",
       " 'just',\n",
       " 'll',\n",
       " 'm',\n",
       " 'ma',\n",
       " 'me',\n",
       " 'mightn',\n",
       " \"mightn't\",\n",
       " 'more',\n",
       " 'most',\n",
       " 'mustn',\n",
       " \"mustn't\",\n",
       " 'my',\n",
       " 'myself',\n",
       " 'needn',\n",
       " \"needn't\",\n",
       " 'no',\n",
       " 'nor',\n",
       " 'not',\n",
       " 'now',\n",
       " 'o',\n",
       " 'of',\n",
       " 'off',\n",
       " 'on',\n",
       " 'once',\n",
       " 'only',\n",
       " 'or',\n",
       " 'other',\n",
       " 'our',\n",
       " 'ours',\n",
       " 'ourselves',\n",
       " 'out',\n",
       " 'over',\n",
       " 'own',\n",
       " 're',\n",
       " 's',\n",
       " 'same',\n",
       " 'shan',\n",
       " \"shan't\",\n",
       " 'she',\n",
       " \"she's\",\n",
       " 'should',\n",
       " \"should've\",\n",
       " 'shouldn',\n",
       " \"shouldn't\",\n",
       " 'so',\n",
       " 'some',\n",
       " 'such',\n",
       " 't',\n",
       " 'than',\n",
       " 'that',\n",
       " \"that'll\",\n",
       " 'the',\n",
       " 'their',\n",
       " 'theirs',\n",
       " 'them',\n",
       " 'themselves',\n",
       " 'then',\n",
       " 'there',\n",
       " 'these',\n",
       " 'they',\n",
       " 'this',\n",
       " 'those',\n",
       " 'through',\n",
       " 'to',\n",
       " 'too',\n",
       " 'under',\n",
       " 'until',\n",
       " 'up',\n",
       " 've',\n",
       " 'very',\n",
       " 'was',\n",
       " 'wasn',\n",
       " \"wasn't\",\n",
       " 'we',\n",
       " 'were',\n",
       " 'weren',\n",
       " \"weren't\",\n",
       " 'what',\n",
       " 'when',\n",
       " 'where',\n",
       " 'which',\n",
       " 'while',\n",
       " 'who',\n",
       " 'whom',\n",
       " 'why',\n",
       " 'will',\n",
       " 'with',\n",
       " 'won',\n",
       " \"won't\",\n",
       " 'wouldn',\n",
       " \"wouldn't\",\n",
       " 'y',\n",
       " 'you',\n",
       " \"you'd\",\n",
       " \"you'll\",\n",
       " \"you're\",\n",
       " \"you've\",\n",
       " 'your',\n",
       " 'yours',\n",
       " 'yourself',\n",
       " 'yourselves'}"
      ]
     },
     "execution_count": 12,
     "metadata": {},
     "output_type": "execute_result"
    }
   ],
   "source": [
    "set(stop_words)"
   ]
  },
  {
   "cell_type": "markdown",
   "id": "fb9e8d42",
   "metadata": {},
   "source": [
    "### pos tagging"
   ]
  },
  {
   "cell_type": "code",
   "execution_count": 30,
   "id": "512b5d90",
   "metadata": {},
   "outputs": [],
   "source": [
    "\n",
    "# Abbreviation\tMeaning\n",
    "# CC\tcoordinating conjunction\n",
    "# CD\tcardinal digit\n",
    "# DT\tdeterminer\n",
    "# EX\texistential there\n",
    "# FW\tforeign word\n",
    "# IN\tpreposition/subordinating conjunction\n",
    "# JJ\tThis NLTK POS Tag is an adjective (large)\n",
    "# JJR\tadjective, comparative (larger)\n",
    "# JJS\tadjective, superlative (largest)\n",
    "# LS\tlist market\n",
    "# MD\tmodal (could, will)\n",
    "# NN\tnoun, singular (cat, tree)\n",
    "# NNS\tnoun plural (desks)\n",
    "# NNP\tproper noun, singular (sarah)\n",
    "# NNPS\tproper noun, plural (indians or americans)\n",
    "# PDT\tpredeterminer (all, both, half)\n",
    "# POS\tpossessive ending (parent\\ ‘s)\n",
    "# PRP\tpersonal pronoun (hers, herself, him, himself)\n",
    "# PRP$\tpossessive pronoun (her, his, mine, my, our )\n",
    "# RB\tadverb (occasionally, swiftly)\n",
    "# RBR\tadverb, comparative (greater)\n",
    "# RBS\tadverb, superlative (biggest)\n",
    "# RP\tparticle (about)\n",
    "# TO\tinfinite marker (to)\n",
    "# UH\tinterjection (goodbye)\n",
    "# VB\tverb (ask)\n",
    "# VBG\tverb gerund (judging)\n",
    "# VBD\tverb past tense (pleaded)\n",
    "# VBN\tverb past participle (reunified)\n",
    "# VBP\tverb, present tense not 3rd person singular(wrap)\n",
    "# VBZ\tverb, present tense with 3rd person singular (bases)\n",
    "# WDT\twh-determiner (that, what)\n",
    "# WP\twh- pronoun (who)\n",
    "# WRB\twh- adverb (how)"
   ]
  },
  {
   "cell_type": "code",
   "execution_count": 13,
   "id": "4cce9639",
   "metadata": {},
   "outputs": [
    {
     "name": "stderr",
     "output_type": "stream",
     "text": [
      "[nltk_data] Downloading package averaged_perceptron_tagger to\n",
      "[nltk_data]     C:\\Users\\Lenovo\\AppData\\Roaming\\nltk_data...\n",
      "[nltk_data]   Package averaged_perceptron_tagger is already up-to-\n",
      "[nltk_data]       date!\n"
     ]
    },
    {
     "data": {
      "text/plain": [
       "True"
      ]
     },
     "execution_count": 13,
     "metadata": {},
     "output_type": "execute_result"
    }
   ],
   "source": [
    "nltk.download('averaged_perceptron_tagger')"
   ]
  },
  {
   "cell_type": "code",
   "execution_count": 14,
   "id": "10fc863e",
   "metadata": {},
   "outputs": [
    {
     "name": "stdout",
     "output_type": "stream",
     "text": [
      "[('Natural', 'JJ'), ('language', 'NN'), ('processing', 'NN'), ('(', '('), ('NLP', 'NNP'), (')', ')'), ('refers', 'NNS'), ('branch', 'VBP'), ('computer', 'NN'), ('science—and', 'NN'), ('specifically', 'RB'), (',', ','), ('branch', 'JJ'), ('artificial', 'JJ'), ('intelligence', 'NN'), ('AI—concerned', 'VBD'), ('giving', 'VBG'), ('computers', 'NNS'), ('ability', 'NN'), ('understand', 'VBP'), ('text', 'NN'), ('spoken', 'NN'), ('words', 'NNS'), ('much', 'JJ'), ('way', 'NN'), ('human', 'JJ'), ('beings', 'NNS'), ('.', '.')]\n"
     ]
    }
   ],
   "source": [
    "txt='''\n",
    "Natural language processing (NLP) refers to the branch of computer science—and more specifically,\n",
    "the branch of artificial intelligence or AI—concerned with giving computers the ability to understand text and \n",
    "spoken words in much the same way human beings can.\n",
    "'''\n",
    "\n",
    "tokenized=sent_tokenize(txt)\n",
    "for i in tokenized:\n",
    "    wordlist=word_tokenize(i)\n",
    "    wordlist=[w for w in wordlist if not w in stop_words]\n",
    "    tagged=nltk.pos_tag(wordlist)\n",
    "    print(tagged)"
   ]
  },
  {
   "cell_type": "markdown",
   "id": "088bfa0b",
   "metadata": {},
   "source": [
    "### chunking"
   ]
  },
  {
   "cell_type": "code",
   "execution_count": 15,
   "id": "c3c6e59c",
   "metadata": {},
   "outputs": [
    {
     "data": {
      "text/plain": [
       "[('the', 'DT'),\n",
       " ('yellow', 'JJ'),\n",
       " ('dog', 'NN'),\n",
       " ('barked', 'VBD'),\n",
       " ('at', 'IN'),\n",
       " ('the', 'DT'),\n",
       " ('cat', 'NN')]"
      ]
     },
     "execution_count": 15,
     "metadata": {},
     "output_type": "execute_result"
    }
   ],
   "source": [
    "#1\n",
    "sent=\"the yellow dog barked at the cat\"\n",
    "sent_tokens=nltk.pos_tag(word_tokenize(sent))\n",
    "sent_tokens"
   ]
  },
  {
   "cell_type": "code",
   "execution_count": 16,
   "id": "17cf0b8e",
   "metadata": {
    "scrolled": true
   },
   "outputs": [
    {
     "name": "stderr",
     "output_type": "stream",
     "text": [
      "[nltk_data] Downloading package words to\n",
      "[nltk_data]     C:\\Users\\Lenovo\\AppData\\Roaming\\nltk_data...\n",
      "[nltk_data]   Package words is already up-to-date!\n"
     ]
    },
    {
     "data": {
      "text/plain": [
       "True"
      ]
     },
     "execution_count": 16,
     "metadata": {},
     "output_type": "execute_result"
    }
   ],
   "source": [
    "nltk.download('words')"
   ]
  },
  {
   "cell_type": "code",
   "execution_count": 17,
   "id": "ca612113",
   "metadata": {},
   "outputs": [
    {
     "name": "stderr",
     "output_type": "stream",
     "text": [
      "[nltk_data] Downloading package maxent_ne_chunker to\n",
      "[nltk_data]     C:\\Users\\Lenovo\\AppData\\Roaming\\nltk_data...\n",
      "[nltk_data]   Package maxent_ne_chunker is already up-to-date!\n"
     ]
    },
    {
     "data": {
      "text/plain": [
       "True"
      ]
     },
     "execution_count": 17,
     "metadata": {},
     "output_type": "execute_result"
    }
   ],
   "source": [
    "nltk.download('maxent_ne_chunker')"
   ]
  },
  {
   "cell_type": "code",
   "execution_count": 18,
   "id": "01b382dc",
   "metadata": {},
   "outputs": [],
   "source": [
    "import os\n",
    "path_to_gs='C:\\Program Files\\gs\\gs9.56.1\\bin'\n",
    "os.environ['PATH']+=os.pathsep+path_to_gs"
   ]
  },
  {
   "cell_type": "code",
   "execution_count": 19,
   "id": "e6d5b355",
   "metadata": {},
   "outputs": [
    {
     "name": "stdout",
     "output_type": "stream",
     "text": [
      "Requirement already satisfied: svgling in c:\\users\\lenovo\\anaconda3\\lib\\site-packages (0.3.1)\n",
      "Requirement already satisfied: svgwrite in c:\\users\\lenovo\\anaconda3\\lib\\site-packages (from svgling) (1.4.3)\n",
      "Note: you may need to restart the kernel to use updated packages.\n"
     ]
    }
   ],
   "source": [
    "pip install svgling"
   ]
  },
  {
   "cell_type": "code",
   "execution_count": 20,
   "id": "fc8fa970",
   "metadata": {
    "scrolled": true
   },
   "outputs": [
    {
     "data": {
      "image/png": "[encoded data removed]",
      "text/plain": [
       "Tree('S', [('the', 'DT'), ('yellow', 'JJ'), ('dog', 'NN'), ('barked', 'VBD'), ('at', 'IN'), ('the', 'DT'), ('cat', 'NN')])"
      ]
     },
     "execution_count": 20,
     "metadata": {},
     "output_type": "execute_result"
    }
   ],
   "source": [
    "ne_chunked_sents=nltk.ne_chunk(sent_tokens)  #chunks a single sentence  into a tree\n",
    "ne_chunked_sents"
   ]
  },
  {
   "cell_type": "code",
   "execution_count": 21,
   "id": "d6b84352",
   "metadata": {},
   "outputs": [
    {
     "data": {
      "image/png": "[encoded data removed]",
      "text/plain": [
       "Tree('S', [Tree('NP', [('the', 'DT'), ('yellow', 'JJ'), ('dog', 'NN')]), ('barked', 'VBD'), ('at', 'IN'), Tree('NP', [('the', 'DT'), ('cat', 'NN')])])"
      ]
     },
     "execution_count": 21,
     "metadata": {},
     "output_type": "execute_result"
    }
   ],
   "source": [
    "#? means preceeding pos should come atmost once.\n",
    "#* means preceeding pos can be there 0 or more number of times\n",
    "#+ atleast one time\n",
    "grammar_np=r\"NP:{<DT>?<JJ>*<NN>}\"  #DT:determinor,JJ:adjective,NN:noun\n",
    "#create the parser\n",
    "chunk_parser=nltk.RegexpParser(grammar_np)\n",
    "chunk_result=chunk_parser.parse(sent_tokens)\n",
    "chunk_result"
   ]
  },
  {
   "cell_type": "code",
   "execution_count": 22,
   "id": "4beb6645",
   "metadata": {},
   "outputs": [
    {
     "data": {
      "image/png": "[encoded data removed]",
      "text/plain": [
       "Tree('S', [Tree('NP', [('the', 'DT'), ('big', 'JJ'), ('yellow', 'NN')]), Tree('NP', [('dog', 'NN')]), ('barked', 'VBD'), ('at', 'IN'), Tree('NP', [('the', 'DT'), ('cat', 'NN')])])"
      ]
     },
     "execution_count": 22,
     "metadata": {},
     "output_type": "execute_result"
    }
   ],
   "source": [
    "#2\n",
    "sent='the big yellow dog barked at the cat'\n",
    "sent_tokens=nltk.pos_tag(word_tokenize(sent))\n",
    "grammar_np=r\"NP:{<DT>?<JJ>*<NN>}\"\n",
    "chunk_parser=nltk.RegexpParser(grammar_np)\n",
    "chunk_result=chunk_parser.parse(sent_tokens)\n",
    "chunk_result"
   ]
  },
  {
   "cell_type": "code",
   "execution_count": 23,
   "id": "77b2a4df",
   "metadata": {},
   "outputs": [
    {
     "data": {
      "image/png": "[encoded data removed]",
      "text/plain": [
       "Tree('S', [Tree('NP', [('the', 'DT'), ('big', 'JJ'), ('yellow', 'NN'), ('dog', 'NN')]), ('barked', 'VBD'), ('at', 'IN'), Tree('NP', [('the', 'DT'), ('cat', 'NN')])])"
      ]
     },
     "execution_count": 23,
     "metadata": {},
     "output_type": "execute_result"
    }
   ],
   "source": [
    "#3\n",
    "sent='the big yellow dog barked at the cat'\n",
    "sent_tokens=nltk.pos_tag(word_tokenize(sent))\n",
    "grammar_np=r\"NP:{<DT>?<JJ>*<NN>+}\"   #noun mandatory   ,\n",
    "chunk_parser=nltk.RegexpParser(grammar_np)\n",
    "chunk_result=chunk_parser.parse(sent_tokens)\n",
    "chunk_result"
   ]
  },
  {
   "cell_type": "code",
   "execution_count": 24,
   "id": "1094c63d",
   "metadata": {},
   "outputs": [
    {
     "data": {
      "image/png": "[encoded data removed]",
      "text/plain": [
       "Tree('S', [Tree('NP', [('the', 'DT'), ('big', 'JJ'), ('yellow', 'NN'), ('dog', 'NN')]), ('barked', 'VBD'), ('at', 'IN'), ('the', 'DT'), ('cat', 'NN')])"
      ]
     },
     "execution_count": 24,
     "metadata": {},
     "output_type": "execute_result"
    }
   ],
   "source": [
    "#4\n",
    "sent='the big yellow dog barked at the cat'\n",
    "sent_tokens=nltk.pos_tag(word_tokenize(sent))\n",
    "grammar_np=r\"NP:{<DT>?<JJ>+<NN>+}\"   #adjective mandatory(+)(atleast one)\n",
    "chunk_parser=nltk.RegexpParser(grammar_np)\n",
    "chunk_result=chunk_parser.parse(sent_tokens)\n",
    "chunk_result"
   ]
  },
  {
   "cell_type": "code",
   "execution_count": 25,
   "id": "e626ae28",
   "metadata": {},
   "outputs": [
    {
     "data": {
      "image/png": "[encoded data removed]",
      "text/plain": [
       "Tree('S', [('the', 'DT'), ('big', 'JJ'), ('yellow', 'NN'), ('dog', 'NN'), Tree('VP', [('barked', 'VBD')]), ('at', 'IN'), ('the', 'DT'), ('cat', 'NN')])"
      ]
     },
     "execution_count": 25,
     "metadata": {},
     "output_type": "execute_result"
    }
   ],
   "source": [
    "#5\n",
    "grammar_vp=r\"VP:{<PRP>?<VB|VBD|VBZ|VBG>*<RB|RBR>?}\"\n",
    "chunk_parser=nltk.RegexpParser(grammar_vp)\n",
    "chunk_result=chunk_parser.parse(sent_tokens)\n",
    "chunk_result"
   ]
  },
  {
   "cell_type": "code",
   "execution_count": 26,
   "id": "cae12612",
   "metadata": {},
   "outputs": [
    {
     "data": {
      "image/png": "[encoded data removed]",
      "text/plain": [
       "Tree('S', [('the', 'DT'), ('children', 'NNS'), Tree('VP', [('were', 'VBD'), ('running', 'VBG'), ('fastly', 'RB')]), ('in', 'IN'), ('the', 'DT'), ('field', 'NN')])"
      ]
     },
     "execution_count": 26,
     "metadata": {},
     "output_type": "execute_result"
    }
   ],
   "source": [
    "#6\n",
    "sent=\"the children were running fastly in the field\"\n",
    "sent_tokens=nltk.pos_tag(word_tokenize(sent))\n",
    "\n",
    "grammar_vp=r\"VP:{<PRP>?<VB|VBD|VBZ|VBG>*<RB|RBR>?}\"\n",
    "chunk_parser=nltk.RegexpParser(grammar_vp)\n",
    "chunk_result=chunk_parser.parse(sent_tokens)\n",
    "chunk_result"
   ]
  },
  {
   "cell_type": "code",
   "execution_count": 27,
   "id": "84e74d31",
   "metadata": {},
   "outputs": [
    {
     "data": {
      "image/png": "[encoded data removed]",
      "text/plain": [
       "Tree('S', [('the', 'DT'), ('children', 'NNS'), Tree('VP', [('were', 'VBD'), ('running', 'VBG'), ('very', 'RB'), ('fastly', 'RB')]), ('in', 'IN'), ('the', 'DT'), ('field', 'NN')])"
      ]
     },
     "execution_count": 27,
     "metadata": {},
     "output_type": "execute_result"
    }
   ],
   "source": [
    "#7\n",
    "sent=\"the children were running very fastly in the field\"\n",
    "sent_tokens=nltk.pos_tag(word_tokenize(sent))\n",
    "\n",
    "grammar_vp=r\"VP:{<PRP>?<VB|VBD|VBZ|VBG>*<RB|RBR>+}\"\n",
    "chunk_parser=nltk.RegexpParser(grammar_vp)\n",
    "chunk_result=chunk_parser.parse(sent_tokens)\n",
    "chunk_result"
   ]
  },
  {
   "cell_type": "markdown",
   "id": "5745c2f5",
   "metadata": {},
   "source": [
    "### named entity recognition"
   ]
  },
  {
   "cell_type": "code",
   "execution_count": 28,
   "id": "6148ee10",
   "metadata": {},
   "outputs": [],
   "source": [
    "doc='''\n",
    "Google is an America multinational technology company that specializes in-related services and \n",
    "products, which include online advertising technologies, serach engine, cloud computing, \n",
    "and hardware. It was found in 1998 by Larry Page and Sergey Brin while they were Ph.D. students \n",
    "at Stanford University in California'''\n",
    "\n",
    "\n",
    "#tokenize doc\n",
    "tokenize_doc=nltk.word_tokenize(doc)\n",
    "tagged_sent=nltk.pos_tag(tokenize_doc)\n",
    "ne_chunked_sents=nltk.ne_chunk(tagged_sent)"
   ]
  },
  {
   "cell_type": "code",
   "execution_count": 29,
   "id": "3298011e",
   "metadata": {},
   "outputs": [
    {
     "data": {
      "image/png": "[encoded data removed]",
      "text/plain": [
       "Tree('S', [Tree('GPE', [('Google', 'NNP')]), ('is', 'VBZ'), ('an', 'DT'), Tree('GPE', [('America', 'NNP')]), ('multinational', 'JJ'), ('technology', 'NN'), ('company', 'NN'), ('that', 'WDT'), ('specializes', 'VBZ'), ('in-related', 'JJ'), ('services', 'NNS'), ('and', 'CC'), ('products', 'NNS'), (',', ','), ('which', 'WDT'), ('include', 'VBP'), ('online', 'JJ'), ('advertising', 'NN'), ('technologies', 'NNS'), (',', ','), ('serach', 'NN'), ('engine', 'NN'), (',', ','), ('cloud', 'NN'), ('computing', 'NN'), (',', ','), ('and', 'CC'), ('hardware', 'NN'), ('.', '.'), ('It', 'PRP'), ('was', 'VBD'), ('found', 'VBN'), ('in', 'IN'), ('1998', 'CD'), ('by', 'IN'), Tree('PERSON', [('Larry', 'NNP'), ('Page', 'NNP')]), ('and', 'CC'), Tree('PERSON', [('Sergey', 'NNP'), ('Brin', 'NNP')]), ('while', 'IN'), ('they', 'PRP'), ('were', 'VBD'), ('Ph.D.', 'NNP'), ('students', 'NNS'), ('at', 'IN'), Tree('ORGANIZATION', [('Stanford', 'NNP'), ('University', 'NNP')]), ('in', 'IN'), Tree('GPE', [('California', 'NNP')])])"
      ]
     },
     "execution_count": 29,
     "metadata": {},
     "output_type": "execute_result"
    }
   ],
   "source": [
    "ne_chunked_sents"
   ]
  },
  {
   "cell_type": "code",
   "execution_count": 35,
   "id": "dcfd4f05",
   "metadata": {},
   "outputs": [
    {
     "name": "stdout",
     "output_type": "stream",
     "text": [
      "[('Google', 'NNP')]\n",
      "[('America', 'NNP')]\n",
      "[('Larry', 'NNP'), ('Page', 'NNP')]\n",
      "[('Sergey', 'NNP'), ('Brin', 'NNP')]\n",
      "[('Stanford', 'NNP'), ('University', 'NNP')]\n",
      "[('California', 'NNP')]\n"
     ]
    }
   ],
   "source": [
    "#extract all named entities\n",
    "named_entities=[]\n",
    "for tagged_tree in ne_chunked_sents:\n",
    "    #hasattr() returns true if an object has the given named attribute and false if it does not\n",
    "    if hasattr(tagged_tree,'label'):\n",
    "        print(tagged_tree.leaves())\n",
    "        entity_name=' '.join(c[0] for c in tagged_tree.leaves())\n",
    "        entity_type=tagged_tree.label()\n",
    "        named_entities.append((entity_name,entity_type))"
   ]
  },
  {
   "cell_type": "code",
   "execution_count": 34,
   "id": "163e26ab",
   "metadata": {
    "scrolled": true
   },
   "outputs": [
    {
     "data": {
      "text/plain": [
       "[('Google', 'GPE'),\n",
       " ('America', 'GPE'),\n",
       " ('Larry Page', 'PERSON'),\n",
       " ('Sergey Brin', 'PERSON'),\n",
       " ('Stanford University', 'ORGANIZATION'),\n",
       " ('California', 'GPE')]"
      ]
     },
     "execution_count": 34,
     "metadata": {},
     "output_type": "execute_result"
    }
   ],
   "source": [
    "named_entities"
   ]
  },
  {
   "cell_type": "markdown",
   "id": "8efcdc1c",
   "metadata": {},
   "source": [
    "### regular expression frunctions"
   ]
  },
  {
   "cell_type": "markdown",
   "id": "a020e2d6",
   "metadata": {},
   "source": [
    "#### split()"
   ]
  },
  {
   "cell_type": "code",
   "execution_count": 36,
   "id": "07fcc783",
   "metadata": {},
   "outputs": [
    {
     "data": {
      "text/plain": [
       "['thi', ' i', ' a demo for a regular expre', '', 'ion ', 'plit']"
      ]
     },
     "execution_count": 36,
     "metadata": {},
     "output_type": "execute_result"
    }
   ],
   "source": [
    "import re\n",
    "text=re.split(r's','this is a demo for a regular expression split')\n",
    "text"
   ]
  },
  {
   "cell_type": "code",
   "execution_count": 37,
   "id": "55951a62",
   "metadata": {},
   "outputs": [
    {
     "data": {
      "text/plain": [
       "['this is a demo fo', ' a ', 'egular expression split']"
      ]
     },
     "execution_count": 37,
     "metadata": {},
     "output_type": "execute_result"
    }
   ],
   "source": [
    "text=re.split(r'r','this is a demo for a regular expression split',maxsplit=2)  #maximum split\n",
    "text"
   ]
  },
  {
   "cell_type": "markdown",
   "id": "7833dcfb",
   "metadata": {},
   "source": [
    "#### match()"
   ]
  },
  {
   "cell_type": "code",
   "execution_count": 43,
   "id": "c35b91e5",
   "metadata": {},
   "outputs": [
    {
     "data": {
      "text/plain": [
       "<re.Match object; span=(0, 3), match='pos'>"
      ]
     },
     "execution_count": 43,
     "metadata": {},
     "output_type": "execute_result"
    }
   ],
   "source": [
    "#checks for match in a string only if it occures at the beginning of the string\n",
    "text=re.match(r'pos',\"positions are to be given\")\n",
    "text"
   ]
  },
  {
   "cell_type": "markdown",
   "id": "d89a4c33",
   "metadata": {},
   "source": [
    "#### search()"
   ]
  },
  {
   "cell_type": "code",
   "execution_count": 44,
   "id": "a624b6d1",
   "metadata": {},
   "outputs": [
    {
     "data": {
      "text/plain": [
       "<re.Match object; span=(6, 8), match='on'>"
      ]
     },
     "execution_count": 44,
     "metadata": {},
     "output_type": "execute_result"
    }
   ],
   "source": [
    "#does not restrict its search to the first occurence of the pattern\n",
    "text=re.search(r'on',\"positions are to be given\")\n",
    "text"
   ]
  },
  {
   "cell_type": "markdown",
   "id": "f0f4c22e",
   "metadata": {},
   "source": [
    "#### findall()"
   ]
  },
  {
   "cell_type": "code",
   "execution_count": 45,
   "id": "5a9018cb",
   "metadata": {},
   "outputs": [
    {
     "data": {
      "text/plain": [
       "['in', 'in']"
      ]
     },
     "execution_count": 45,
     "metadata": {},
     "output_type": "execute_result"
    }
   ],
   "source": [
    "#picks all the occurences of the pattern\n",
    "text=re.findall(r'in',\"find and replace a pattern with a new string\")\n",
    "text"
   ]
  },
  {
   "cell_type": "markdown",
   "id": "a4ee1fa4",
   "metadata": {},
   "source": [
    "#### remove punctuation marks(, . ; ! : ') using tokenized sentences with NLTK RegaxpTokenizer"
   ]
  },
  {
   "cell_type": "code",
   "execution_count": 48,
   "id": "20b94296",
   "metadata": {},
   "outputs": [
    {
     "data": {
      "text/plain": [
       "['Hi',\n",
       " 'we',\n",
       " 'are',\n",
       " 'dealing',\n",
       " 'with',\n",
       " 'natural',\n",
       " 'language',\n",
       " 'processing',\n",
       " 'let',\n",
       " 's',\n",
       " 'see',\n",
       " 'the',\n",
       " 'basic',\n",
       " 'text',\n",
       " 'processing',\n",
       " 'methods']"
      ]
     },
     "execution_count": 48,
     "metadata": {},
     "output_type": "execute_result"
    }
   ],
   "source": [
    "#method 1---using regular expressions\n",
    "sentence=\"Hi! we are dealing with natural language processing. let's see the basic text processing methods.\"\n",
    "tokenizer=nltk.RegexpTokenizer(r'\\w+')  #\\w used to match alphanumeric charecters\n",
    "words=tokenizer.tokenize(sentence)\n",
    "words"
   ]
  },
  {
   "cell_type": "code",
   "execution_count": 49,
   "id": "fd34d896",
   "metadata": {},
   "outputs": [
    {
     "data": {
      "text/plain": [
       "['Hi',\n",
       " 'we',\n",
       " 'are',\n",
       " 'dealing',\n",
       " 'with',\n",
       " 'natural',\n",
       " 'language',\n",
       " 'processing',\n",
       " 'let',\n",
       " 's',\n",
       " 'see',\n",
       " 'the',\n",
       " 'basic',\n",
       " 'text',\n",
       " 'processing',\n",
       " 'methods']"
      ]
     },
     "execution_count": 49,
     "metadata": {},
     "output_type": "execute_result"
    }
   ],
   "source": [
    "#method 2\n",
    "sentence=\"Hi! we are dealing with natural language processing. let's see the basic text processing methods.\"\n",
    "words=tokenizer.tokenize(sentence)\n",
    "words=[word for word in words if word.isalnum()]\n",
    "words"
   ]
  },
  {
   "cell_type": "code",
   "execution_count": null,
   "id": "fe9fd3f7",
   "metadata": {},
   "outputs": [],
   "source": []
  }
 ],
 "metadata": {
  "kernelspec": {
   "display_name": "Python 3 (ipykernel)",
   "language": "python",
   "name": "python3"
  },
  "language_info": {
   "codemirror_mode": {
    "name": "ipython",
    "version": 3
   },
   "file_extension": ".py",
   "mimetype": "text/x-python",
   "name": "python",
   "nbconvert_exporter": "python",
   "pygments_lexer": "ipython3",
   "version": "3.9.7"
  }
 },
 "nbformat": 4,
 "nbformat_minor": 5
}
