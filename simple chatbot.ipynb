{
 "cells": [
  {
   "cell_type": "code",
   "execution_count": 6,
   "id": "c77df832",
   "metadata": {},
   "outputs": [],
   "source": [
    "name='bot 201'\n",
    "weather='rainy'\n",
    "mood='good'\n",
    "\n",
    "responses={\n",
    "    \"what's your name?\":['they call me{}'.format(name),\n",
    "                        ' i usually go by the name{}'.format(name),\n",
    "                        'My name is the{}'.format(name)],\n",
    "    \"what's today's weather?\":['the weather is{}'.format(weather),\n",
    "                             \"it's {} today\".format(weather)],\n",
    "    \"how are you?\":[\"i'm feeling {}\".format(mood),\n",
    "                  '{}! how about you'.format(mood),\n",
    "                  \"i'm {}! How about you\".format(mood)],\n",
    "    \n",
    "    \"\":['hey! Are You There??',\n",
    "       \"what do you mean by this?\"],\n",
    "    \n",
    "    'default':[\"Sorry!!! i didn't get you.\",\"Sorry?\"],\n",
    "    \n",
    "    'End':['ThankYou!','good to talk to you! See you']\n",
    "}"
   ]
  },
  {
   "cell_type": "code",
   "execution_count": 7,
   "id": "99722b75",
   "metadata": {},
   "outputs": [],
   "source": [
    "import random\n",
    "def res(message):\n",
    "    if message in responses:\n",
    "        bot201_message=random.choice(responses[message])\n",
    "    else:\n",
    "        bot201_message=random.choice(responses['default'])\n",
    "    return bot201_message"
   ]
  },
  {
   "cell_type": "code",
   "execution_count": 10,
   "id": "8a6e707f",
   "metadata": {},
   "outputs": [],
   "source": [
    "def real(text):\n",
    "    if 'name' in text:\n",
    "        text_out=\"what's your name?\"\n",
    "    elif ('weather' in text) or ('climate' in text):\n",
    "        text_out=\"what's today's weather?\"\n",
    "    elif ('how are' in text) or ('how do' in text):\n",
    "        text_out=\"how are you?\"\n",
    "    elif text=='stop' or text=='exit' or text=='end':\n",
    "        text_out='End'\n",
    "    elif text=='':\n",
    "        text_out=\"\"\n",
    "    else:\n",
    "        text_out='default'\n",
    "    return text_out"
   ]
  },
  {
   "cell_type": "code",
   "execution_count": 12,
   "id": "93efef5b",
   "metadata": {},
   "outputs": [],
   "source": [
    "def send_message(message):   #send response of the chatbot\n",
    "    response=res(message)\n",
    "    print(response)"
   ]
  },
  {
   "cell_type": "code",
   "execution_count": 17,
   "id": "ed766019",
   "metadata": {},
   "outputs": [
    {
     "name": "stdout",
     "output_type": "stream",
     "text": [
      "name\n",
      "My name is thebot 201\n",
      "weather\n",
      "it's rainy today\n",
      "how do\n",
      "i'm feeling good\n",
      "you\n",
      "Sorry!!! i didn't get you.\n",
      "exit\n",
      "good to talk to you! See you\n"
     ]
    }
   ],
   "source": [
    "while True:\n",
    "    my_input=input()\n",
    "    my_input=my_input.lower()\n",
    "    text=real(my_input)\n",
    "    send_message(text)\n",
    "    if my_input=='exit' or my_input=='stop' or my_input=='end':\n",
    "        break"
   ]
  },
  {
   "cell_type": "code",
   "execution_count": null,
   "id": "7e54acc8",
   "metadata": {},
   "outputs": [],
   "source": []
  }
 ],
 "metadata": {
  "kernelspec": {
   "display_name": "Python 3 (ipykernel)",
   "language": "python",
   "name": "python3"
  },
  "language_info": {
   "codemirror_mode": {
    "name": "ipython",
    "version": 3
   },
   "file_extension": ".py",
   "mimetype": "text/x-python",
   "name": "python",
   "nbconvert_exporter": "python",
   "pygments_lexer": "ipython3",
   "version": "3.9.7"
  }
 },
 "nbformat": 4,
 "nbformat_minor": 5
}
